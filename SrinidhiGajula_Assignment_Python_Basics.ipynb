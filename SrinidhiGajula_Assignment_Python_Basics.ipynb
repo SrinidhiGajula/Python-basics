{
  "nbformat": 4,
  "nbformat_minor": 0,
  "metadata": {
    "colab": {
      "provenance": [],
      "authorship_tag": "ABX9TyMX/USODTzyDNUWbni0PEnN",
      "include_colab_link": true
    },
    "kernelspec": {
      "name": "python3",
      "display_name": "Python 3"
    },
    "language_info": {
      "name": "python"
    }
  },
  "cells": [
    {
      "cell_type": "markdown",
      "metadata": {
        "id": "view-in-github",
        "colab_type": "text"
      },
      "source": [
        "<a href=\"https://colab.research.google.com/github/SrinidhiGajula/Python-basics/blob/main/SrinidhiGajula_Assignment_Python_Basics.ipynb\" target=\"_parent\"><img src=\"https://colab.research.google.com/assets/colab-badge.svg\" alt=\"Open In Colab\"/></a>"
      ]
    },
    {
      "cell_type": "markdown",
      "source": [
        "\n",
        "\n",
        "```\n",
        "# This is formatted as code\n",
        "```\n",
        "\n"
      ],
      "metadata": {
        "id": "6cIPbUodg1nV"
      }
    },
    {
      "cell_type": "markdown",
      "source": [
        "THEORY"
      ],
      "metadata": {
        "id": "0cCMuNCOg50D"
      }
    },
    {
      "cell_type": "markdown",
      "source": [],
      "metadata": {
        "id": "qndMDX1-g8aQ"
      }
    },
    {
      "cell_type": "markdown",
      "source": [
        "1.What is Python, and why is it popular\n",
        " A:Python is high level programming language. It is popular because of its simple language, it has over 1 lakh libraries which can be used for DataScience, ML,AI etc. Its data visualisation tools- matplotlib, seaborn are used in data analysis, ML.\n",
        "\n",
        "2.What is an interpreter in Python\n",
        " A:It converts high level language to low level language when we run program. Interpreter converts line by line\n",
        "\n",
        "3.What are pre-defined keywords in Python\n",
        " A: True, if, else, case, lambda, break, continue etc which make programming easy\n",
        "\n",
        "4.Can keywords be used as variable names\n",
        " A:No\n",
        "\n",
        "5. What is mutability in Python\n",
        "That which can be changed. eg: list,dictionary values\n",
        "\n",
        "6.Why are lists mutable, but tuples are immutable\n",
        " Values of lists can be updated unlike in tuples\n",
        "\n",
        "7. What is the difference between “==” and “is” operators in Python\n",
        " == checks for equality of values, \"is\" checks if variables refer to same object in memory.\n",
        "\n",
        "8. What are logical operators in Python\n",
        "  AND- is true if both conditions are true\n",
        "  OR- true if one of conditions is true\n",
        "  NOT- reverses condition\n",
        "\n",
        "9. What is type casting in Python\n",
        " To convert one data type to other. Its types are\n",
        " Explicit type casting and implicit\n",
        "\n",
        " 10.What is the difference between implicit and explicit type casting.\n",
        " Implicit: Python does it implicitly.\n",
        " Explict: to explicitly mention eg: int(2.5) = 2\n",
        "\n",
        " 11.What is the purpose of conditional statements in Python\n",
        "   if, elif, case conditional statements in Python are used to execute certain blocks of code based on specific conditions. they control the flow of a program.\n",
        "\n",
        " 12.How does the elif statement work\n",
        "   Used always with if.\n",
        "   eg: if (condition)\n",
        "         statement,\n",
        "       elif (condition)\n",
        "         statement.\n",
        "\n",
        " 13.What is the difference between for and while loops\n",
        "   for loop is used for sequential iteration and when number of iterations is known in advance, viceversa for  while loop\n",
        "\n",
        " 14.Describe a scenario where a while loop is more suitable than a for loop\n",
        " When number of iterations is not known in advance\n"
      ],
      "metadata": {
        "id": "W0Za0Mc-4s2O"
      }
    },
    {
      "cell_type": "markdown",
      "source": [],
      "metadata": {
        "id": "fCJzdIr8glnx"
      }
    },
    {
      "cell_type": "markdown",
      "source": [
        "PRACTICAL\n"
      ],
      "metadata": {
        "id": "ivExTqIQhA3n"
      }
    },
    {
      "cell_type": "code",
      "source": [
        "#Write a Python program to print \"Hello, World!\n",
        "print(\"Hello, World!\")"
      ],
      "metadata": {
        "colab": {
          "base_uri": "https://localhost:8080/"
        },
        "id": "iyqPGsHdhE7-",
        "outputId": "0ce6b430-5a34-4fb7-8acc-f5823c80cf88"
      },
      "execution_count": 1,
      "outputs": [
        {
          "output_type": "stream",
          "name": "stdout",
          "text": [
            "Hello, World!\n"
          ]
        }
      ]
    },
    {
      "cell_type": "code",
      "source": [
        "a= input(\"Enter name\")\n",
        "b= int(input(\"Enter age\"))\n",
        "print(a, b)\n"
      ],
      "metadata": {
        "colab": {
          "base_uri": "https://localhost:8080/"
        },
        "id": "LD-8D5yKhnH5",
        "outputId": "8844da45-76e4-42bf-a258-bef11f76a4f1"
      },
      "execution_count": 2,
      "outputs": [
        {
          "output_type": "stream",
          "name": "stdout",
          "text": [
            "Enter namesrinidhi\n",
            "Enter age25\n",
            "srinidhi 25\n"
          ]
        }
      ]
    },
    {
      "cell_type": "code",
      "source": [
        "import keyword\n",
        "print(keyword.kwlist)"
      ],
      "metadata": {
        "colab": {
          "base_uri": "https://localhost:8080/"
        },
        "id": "-IeWvlnFiDps",
        "outputId": "f24a45dc-f9d9-4600-e4c7-6b1feb81373d"
      },
      "execution_count": 4,
      "outputs": [
        {
          "output_type": "stream",
          "name": "stdout",
          "text": [
            "['False', 'None', 'True', 'and', 'as', 'assert', 'async', 'await', 'break', 'class', 'continue', 'def', 'del', 'elif', 'else', 'except', 'finally', 'for', 'from', 'global', 'if', 'import', 'in', 'is', 'lambda', 'nonlocal', 'not', 'or', 'pass', 'raise', 'return', 'try', 'while', 'with', 'yield']\n"
          ]
        }
      ]
    },
    {
      "cell_type": "code",
      "source": [
        "import keyword\n",
        "a= input(\"Enter word \")\n",
        "if a in keyword.kwlist:\n",
        "  print(\"It is a keyword\")\n",
        "else:\n",
        "  print(\"It is not a keyword\")\n"
      ],
      "metadata": {
        "colab": {
          "base_uri": "https://localhost:8080/"
        },
        "id": "LohhbOSSirbd",
        "outputId": "3ff11e02-0803-4579-e421-ccafc97aca07"
      },
      "execution_count": 6,
      "outputs": [
        {
          "output_type": "stream",
          "name": "stdout",
          "text": [
            "Enter word if\n",
            "It is a keyword\n"
          ]
        }
      ]
    },
    {
      "cell_type": "markdown",
      "source": [],
      "metadata": {
        "id": "YMajl-Zafj2K"
      }
    },
    {
      "cell_type": "code",
      "source": [
        "tup=( 1,2,3,4,5)\n",
        "tup[0]=6\n",
        "print(tup)\n"
      ],
      "metadata": {
        "colab": {
          "base_uri": "https://localhost:8080/",
          "height": 211
        },
        "id": "BeK3VgAxjFsg",
        "outputId": "dc6866f0-bfdb-4d1d-a676-a873295882ca"
      },
      "execution_count": 7,
      "outputs": [
        {
          "output_type": "error",
          "ename": "TypeError",
          "evalue": "'tuple' object does not support item assignment",
          "traceback": [
            "\u001b[0;31m---------------------------------------------------------------------------\u001b[0m",
            "\u001b[0;31mTypeError\u001b[0m                                 Traceback (most recent call last)",
            "\u001b[0;32m<ipython-input-7-ca63d8212ac7>\u001b[0m in \u001b[0;36m<cell line: 0>\u001b[0;34m()\u001b[0m\n\u001b[1;32m      1\u001b[0m \u001b[0mtup\u001b[0m\u001b[0;34m=\u001b[0m\u001b[0;34m(\u001b[0m \u001b[0;36m1\u001b[0m\u001b[0;34m,\u001b[0m\u001b[0;36m2\u001b[0m\u001b[0;34m,\u001b[0m\u001b[0;36m3\u001b[0m\u001b[0;34m,\u001b[0m\u001b[0;36m4\u001b[0m\u001b[0;34m,\u001b[0m\u001b[0;36m5\u001b[0m\u001b[0;34m)\u001b[0m\u001b[0;34m\u001b[0m\u001b[0;34m\u001b[0m\u001b[0m\n\u001b[0;32m----> 2\u001b[0;31m \u001b[0mtup\u001b[0m\u001b[0;34m[\u001b[0m\u001b[0;36m0\u001b[0m\u001b[0;34m]\u001b[0m\u001b[0;34m=\u001b[0m\u001b[0;36m6\u001b[0m\u001b[0;34m\u001b[0m\u001b[0;34m\u001b[0m\u001b[0m\n\u001b[0m\u001b[1;32m      3\u001b[0m \u001b[0mprint\u001b[0m\u001b[0;34m(\u001b[0m\u001b[0mtup\u001b[0m\u001b[0;34m)\u001b[0m\u001b[0;34m\u001b[0m\u001b[0;34m\u001b[0m\u001b[0m\n\u001b[1;32m      4\u001b[0m \u001b[0mlist\u001b[0m\u001b[0;34m=\u001b[0m\u001b[0;34m[\u001b[0m \u001b[0;36m1\u001b[0m\u001b[0;34m,\u001b[0m\u001b[0;36m2\u001b[0m\u001b[0;34m,\u001b[0m\u001b[0;36m3\u001b[0m\u001b[0;34m,\u001b[0m\u001b[0;36m4\u001b[0m\u001b[0;34m,\u001b[0m\u001b[0;36m5\u001b[0m\u001b[0;34m]\u001b[0m\u001b[0;34m\u001b[0m\u001b[0;34m\u001b[0m\u001b[0m\n\u001b[1;32m      5\u001b[0m \u001b[0mlist\u001b[0m\u001b[0;34m[\u001b[0m\u001b[0;36m0\u001b[0m\u001b[0;34m]\u001b[0m\u001b[0;34m=\u001b[0m\u001b[0;36m6\u001b[0m\u001b[0;34m\u001b[0m\u001b[0;34m\u001b[0m\u001b[0m\n",
            "\u001b[0;31mTypeError\u001b[0m: 'tuple' object does not support item assignment"
          ]
        }
      ]
    },
    {
      "cell_type": "code",
      "source": [
        "list=[ 1,2,3,4,5]\n",
        "list[0]=6\n",
        "print(list)"
      ],
      "metadata": {
        "colab": {
          "base_uri": "https://localhost:8080/"
        },
        "id": "nKLi7fm2juQj",
        "outputId": "fddfd015-0889-4507-c742-a52591997de5"
      },
      "execution_count": 8,
      "outputs": [
        {
          "output_type": "stream",
          "name": "stdout",
          "text": [
            "[6, 2, 3, 4, 5]\n"
          ]
        }
      ]
    },
    {
      "cell_type": "code",
      "source": [
        "a= int(input(\"Enter a number\\n\"))\n",
        "b= int(input(\"Enter another number\\n\"))\n",
        "print(a+b)\n",
        "print(a-b)\n",
        "print(a*b)\n",
        "print(a/b)\n",
        "print(a//b)\n",
        "print(a%b)"
      ],
      "metadata": {
        "colab": {
          "base_uri": "https://localhost:8080/"
        },
        "id": "i-OCSpeAqYLS",
        "outputId": "a972e4dc-db88-4bd2-820d-9fd033ec3ff9"
      },
      "execution_count": 13,
      "outputs": [
        {
          "output_type": "stream",
          "name": "stdout",
          "text": [
            "Enter a number\n",
            "8\n",
            "Enter another number\n",
            "3\n",
            "11\n",
            "5\n",
            "24\n",
            "2.6666666666666665\n",
            "2\n",
            "2\n"
          ]
        }
      ]
    },
    {
      "cell_type": "code",
      "source": [
        "a= int(input(\"Enter a number\\n\"))\n",
        "b= int(input(\"Enter another number\\n\"))\n",
        "if(a>0 and b>0):\n",
        "    print(\"both are positive\")\n",
        "if(a>0 or a==0):\n",
        "    print(\"whole number\")\n",
        "if(not a):\n",
        "    print(\"zero\")\n"
      ],
      "metadata": {
        "colab": {
          "base_uri": "https://localhost:8080/"
        },
        "id": "t_A1OQWLrXZ1",
        "outputId": "9fe1e9f0-df0a-4ab5-9b7c-a6cde98e30ba"
      },
      "execution_count": 16,
      "outputs": [
        {
          "output_type": "stream",
          "name": "stdout",
          "text": [
            "Enter a number\n",
            "0\n",
            "Enter another number\n",
            "5\n",
            "whole number\n",
            "zero\n"
          ]
        }
      ]
    },
    {
      "cell_type": "code",
      "source": [
        "a= int(input(\"Enter a number\\n\"))\n",
        "b= float(input(\"Enter a number\\n\"))\n",
        "c= bool(input(\"Enter a number\\n\"))\n",
        "print(type(a), type(b), type(c))"
      ],
      "metadata": {
        "colab": {
          "base_uri": "https://localhost:8080/"
        },
        "id": "sUwAG8BhsRR0",
        "outputId": "5c0c07d0-0e55-4e02-c1c5-d5a42a1f73b3"
      },
      "execution_count": 18,
      "outputs": [
        {
          "output_type": "stream",
          "name": "stdout",
          "text": [
            "Enter a number\n",
            "5\n",
            "Enter a number\n",
            "6.5\n",
            "Enter a number\n",
            "true\n",
            "<class 'int'> <class 'float'> <class 'bool'>\n"
          ]
        }
      ]
    },
    {
      "cell_type": "code",
      "source": [
        "list=['1','2','3']\n",
        "new=[]\n",
        "for i in list:\n",
        "  new.append(int(i))\n",
        "print(new)"
      ],
      "metadata": {
        "colab": {
          "base_uri": "https://localhost:8080/"
        },
        "id": "nEfmuWzEtSdK",
        "outputId": "5b23737a-b6df-4de5-c822-289d90abffea"
      },
      "execution_count": 19,
      "outputs": [
        {
          "output_type": "stream",
          "name": "stdout",
          "text": [
            "[1, 2, 3]\n"
          ]
        }
      ]
    },
    {
      "cell_type": "code",
      "source": [
        "a= int(input(\"Enter a number\\n\"))\n",
        "\n",
        "if(a>0):\n",
        "    print(\"positive\")\n",
        "if(a<0):\n",
        "    print(\"negative number\")\n",
        "if(a==0):\n",
        "    print(\"zero\")"
      ],
      "metadata": {
        "colab": {
          "base_uri": "https://localhost:8080/"
        },
        "id": "oV-dP4IAvPNv",
        "outputId": "1184e14e-f508-4943-ce24-aebba9a1e36d"
      },
      "execution_count": 20,
      "outputs": [
        {
          "output_type": "stream",
          "name": "stdout",
          "text": [
            "Enter a number\n",
            "-5\n",
            "negative number\n"
          ]
        }
      ]
    },
    {
      "cell_type": "code",
      "source": [
        "for i in(range(1,11)):\n",
        "  print(i)"
      ],
      "metadata": {
        "colab": {
          "base_uri": "https://localhost:8080/"
        },
        "id": "cgu-iFSovahK",
        "outputId": "6fc5be77-c8af-471d-a15b-7a1a8b7042f6"
      },
      "execution_count": 21,
      "outputs": [
        {
          "output_type": "stream",
          "name": "stdout",
          "text": [
            "1\n",
            "2\n",
            "3\n",
            "4\n",
            "5\n",
            "6\n",
            "7\n",
            "8\n",
            "9\n",
            "10\n"
          ]
        }
      ]
    },
    {
      "cell_type": "code",
      "source": [
        "sum=0\n",
        "for i in(range(1,50)):\n",
        "  if(i%2==0):\n",
        "    sum=sum+i\n",
        "print(sum)\n",
        "\n",
        ""
      ],
      "metadata": {
        "colab": {
          "base_uri": "https://localhost:8080/"
        },
        "id": "wpS-wCfNvl9U",
        "outputId": "5820052a-9d6a-4d4d-acc6-ae5949a46495"
      },
      "execution_count": 22,
      "outputs": [
        {
          "output_type": "stream",
          "name": "stdout",
          "text": [
            "600\n"
          ]
        }
      ]
    },
    {
      "cell_type": "code",
      "source": [
        "a= input(\"Enter a stringr\\n\")\n",
        "str=\"\"\n",
        "i=len(a)-1\n",
        "while i>=0:\n",
        "  str=str+a[i]\n",
        "  i=i-1\n",
        "\n",
        "print(str)\n"
      ],
      "metadata": {
        "colab": {
          "base_uri": "https://localhost:8080/"
        },
        "id": "CzMjLuXdv-jT",
        "outputId": "51027b26-3232-4845-8d2a-64aefe26fdf6"
      },
      "execution_count": 27,
      "outputs": [
        {
          "output_type": "stream",
          "name": "stdout",
          "text": [
            "Enter a stringr\n",
            "sri\n",
            "irs\n"
          ]
        }
      ]
    },
    {
      "cell_type": "code",
      "source": [
        "n= int(input(\"Enter a number\\n\"))\n",
        "i=n-1\n",
        "s=n\n",
        "while i>1:\n",
        "  s=s*i\n",
        "  i=i-1\n",
        "print(s, \"\\n\")\n"
      ],
      "metadata": {
        "colab": {
          "base_uri": "https://localhost:8080/"
        },
        "id": "zZdjMxSTxpnN",
        "outputId": "0ac0182d-70e8-4d5d-b29d-62c80bb449eb"
      },
      "execution_count": 39,
      "outputs": [
        {
          "output_type": "stream",
          "name": "stdout",
          "text": [
            "Enter a number\n",
            "5\n",
            "120 \n",
            "\n"
          ]
        }
      ]
    },
    {
      "cell_type": "code",
      "source": [
        "def mutable(list):\n",
        "    list.append(4)\n",
        "    print(list)\n",
        "\n",
        "l= [1, 2, 3]\n",
        "mutable(l)\n",
        "print(l)"
      ],
      "metadata": {
        "colab": {
          "base_uri": "https://localhost:8080/"
        },
        "id": "URKf7dakEqCu",
        "outputId": "b15be52d-970b-4ad7-edd0-3a2cde8de657"
      },
      "execution_count": 40,
      "outputs": [
        {
          "output_type": "stream",
          "name": "stdout",
          "text": [
            "[1, 2, 3, 4]\n",
            "[1, 2, 3, 4]\n"
          ]
        }
      ]
    },
    {
      "cell_type": "code",
      "source": [
        "def fun(tup):\n",
        "    tup=tup+(3,4)\n",
        "    print(tup)\n",
        "\n",
        "t= (1, 2)\n",
        "fun(t)\n"
      ],
      "metadata": {
        "colab": {
          "base_uri": "https://localhost:8080/"
        },
        "id": "I0Dv03tWE5vP",
        "outputId": "dda07e97-06ec-4a33-9c72-b920f3225b53"
      },
      "execution_count": 42,
      "outputs": [
        {
          "output_type": "stream",
          "name": "stdout",
          "text": [
            "(1, 2, 3, 4)\n"
          ]
        }
      ]
    }
  ]
}